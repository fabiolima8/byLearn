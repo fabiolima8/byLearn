{
  "nbformat": 4,
  "nbformat_minor": 0,
  "metadata": {
    "colab": {
      "provenance": []
    },
    "kernelspec": {
      "name": "python3",
      "display_name": "Python 3"
    },
    "language_info": {
      "name": "python"
    }
  },
  "cells": [
    {
      "cell_type": "code",
      "execution_count": null,
      "metadata": {
        "id": "APoTi_sy5tcm"
      },
      "outputs": [],
      "source": [
        "def imc(peso, altura):\n",
        "    altura_quadrada = altura ** 2\n",
        "    meu_imc = peso / altura_quadrada\n",
        "    return meu_imc\n",
        "\n",
        "\n",
        "print('')\n",
        "print(f'Olá! Bem-Vindo(a) ao projeto Python:Calculadora de Indice de Massa Corporal.')\n",
        "nome = input('Por favor, digite o seu nome: ')\n",
        "peso = float(input('Agora digite seu peso, por favor: '))\n",
        "altura = float(input('Agora só preciso saber sua altura. Digite por favor: '))\n",
        "meu_imc = imc(peso, altura)\n",
        "print('')\n",
        "print(f'{nome}, seu IMC é: {meu_imc:.2f}')\n",
        "print('')\n",
        "print('Obrigado por usar a calculadora desenvolvida por fabiolima8!')"
      ]
    }
  ]
}